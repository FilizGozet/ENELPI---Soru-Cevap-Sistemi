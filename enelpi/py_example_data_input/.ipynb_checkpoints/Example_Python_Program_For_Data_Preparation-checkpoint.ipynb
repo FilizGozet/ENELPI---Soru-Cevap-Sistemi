{
 "cells": [
  {
   "cell_type": "code",
   "execution_count": 142,
   "metadata": {},
   "outputs": [],
   "source": [
    "import json"
   ]
  },
  {
   "cell_type": "code",
   "execution_count": 143,
   "metadata": {},
   "outputs": [],
   "source": [
    "def save_json(dictionary,json_file_name = \"data.json\"):\n",
    "    with open(json_file_name, 'w',encoding='utf-8') as fp:\n",
    "        json.dump(dictionary, fp,ensure_ascii=False);"
   ]
  },
  {
   "cell_type": "code",
   "execution_count": 144,
   "metadata": {},
   "outputs": [],
   "source": [
    "def prepare_json_file(title):\n",
    "    questions_answers = []\n",
    "    context = \"\"\n",
    "    qas_dict = {\"qas\" : questions_answers, \"context\" : context}\n",
    "    liste = [qas_dict]\n",
    "    data_key = {\"title\" : title, \"paragraphs\" : liste}\n",
    "    dictionary = {\"data\" : [data_key]}\n",
    "    return dictionary"
   ]
  },
  {
   "cell_type": "code",
   "execution_count": 145,
   "metadata": {},
   "outputs": [],
   "source": [
    "def fill_context(json_file,context):\n",
    "    json_file[\"data\"][0][\"paragraphs\"][0][\"context\"] = context\n",
    "    return json_file"
   ]
  },
  {
   "cell_type": "code",
   "execution_count": 146,
   "metadata": {},
   "outputs": [],
   "source": [
    "def preapare_qas_dict(question,answer,id_,answer_start):\n",
    "    answer = {\"text\" : str(answer), \"answer_start\" : str(answer_start)}\n",
    "    answers = [answer]\n",
    "    dictionary = {\"question\" : question, \"id\" : id_, \"answers\" : answers }\n",
    "    return dictionary"
   ]
  },
  {
   "cell_type": "code",
   "execution_count": 147,
   "metadata": {},
   "outputs": [],
   "source": [
    "def add_qas_to_json_file(qas,json_file):\n",
    "    json_file[\"data\"][0][\"paragraphs\"][0][\"qas\"].append(qas)\n",
    "    return json_file"
   ]
  },
  {
   "cell_type": "code",
   "execution_count": 148,
   "metadata": {},
   "outputs": [],
   "source": [
    "json_example = prepare_json_file(\"Osmanlının Kuruluşu\")"
   ]
  },
  {
   "cell_type": "code",
   "execution_count": 149,
   "metadata": {},
   "outputs": [],
   "source": [
    "json_example = fill_context(json_example,\"context example\")"
   ]
  },
  {
   "cell_type": "code",
   "execution_count": 150,
   "metadata": {},
   "outputs": [],
   "source": [
    "qas_ex = preapare_qas_dict(\"Osman Bey ne zaman doğmuştur?\",1258,1,125)\n",
    "qas_ex2 = preapare_qas_dict(\"Osman Bey ne zaman doğmuştur2?\",1258,2,125)"
   ]
  },
  {
   "cell_type": "code",
   "execution_count": 151,
   "metadata": {},
   "outputs": [],
   "source": [
    "json_example = add_qas_to_json_file(qas_ex,json_example)\n",
    "json_example = add_qas_to_json_file(qas_ex2,json_example)"
   ]
  },
  {
   "cell_type": "code",
   "execution_count": 153,
   "metadata": {},
   "outputs": [],
   "source": [
    "save_json(json_example)"
   ]
  },
  {
   "cell_type": "code",
   "execution_count": 152,
   "metadata": {},
   "outputs": [
    {
     "data": {
      "text/plain": [
       "{'data': [{'title': 'Osmanlının Kuruluşu',\n",
       "   'paragraphs': [{'qas': [{'question': 'Osman Bey ne zaman doğmuştur?',\n",
       "       'id': 1,\n",
       "       'answers': [{'text': '1258', 'answer_start': '125'}]},\n",
       "      {'question': 'Osman Bey ne zaman doğmuştur2?',\n",
       "       'id': 2,\n",
       "       'answers': [{'text': '1258', 'answer_start': '125'}]}],\n",
       "     'context': 'context example'}]}]}"
      ]
     },
     "execution_count": 152,
     "metadata": {},
     "output_type": "execute_result"
    }
   ],
   "source": [
    "json_example"
   ]
  },
  {
   "cell_type": "code",
   "execution_count": null,
   "metadata": {},
   "outputs": [],
   "source": []
  }
 ],
 "metadata": {
  "kernelspec": {
   "display_name": "Python 3",
   "language": "python",
   "name": "python3"
  },
  "language_info": {
   "codemirror_mode": {
    "name": "ipython",
    "version": 3
   },
   "file_extension": ".py",
   "mimetype": "text/x-python",
   "name": "python",
   "nbconvert_exporter": "python",
   "pygments_lexer": "ipython3",
   "version": "3.7.6"
  }
 },
 "nbformat": 4,
 "nbformat_minor": 4
}
